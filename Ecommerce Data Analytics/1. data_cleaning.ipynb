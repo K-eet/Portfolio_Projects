{
 "cells": [
  {
   "cell_type": "markdown",
   "metadata": {},
   "source": [
    "# Data Collection and Preprocessing\n",
    "\n",
    "This notebook involves:\n",
    "- Data Cleaning and Transformation\n",
    "    - Handling missing values\n",
    "    - Removing duplicates\n",
    "    - Correcting data types (if any are incorrect)\n",
    "    - Standardizing data formats (e.g., dates, currency)"
   ]
  },
  {
   "cell_type": "markdown",
   "metadata": {},
   "source": [
    "## Data Cleaning and Transformation"
   ]
  },
  {
   "cell_type": "code",
   "execution_count": 1,
   "metadata": {},
   "outputs": [],
   "source": [
    "# import libraries and read csv\n",
    "import pandas as pd\n",
    "df = pd.read_csv(\"data.csv\",\n",
    "                 encoding='unicode_escape')\n",
    "\n",
    "# remove null values\n",
    "df_cleaned = df.dropna()\n",
    "\n",
    "# Remove duplicate rows\n",
    "df_cleaned = df_cleaned.drop_duplicates()"
   ]
  },
  {
   "cell_type": "code",
   "execution_count": 2,
   "metadata": {},
   "outputs": [
    {
     "name": "stdout",
     "output_type": "stream",
     "text": [
      "<class 'pandas.core.frame.DataFrame'>\n",
      "Index: 401604 entries, 0 to 541908\n",
      "Data columns (total 8 columns):\n",
      " #   Column       Non-Null Count   Dtype  \n",
      "---  ------       --------------   -----  \n",
      " 0   InvoiceNo    401604 non-null  object \n",
      " 1   StockCode    401604 non-null  object \n",
      " 2   Description  401604 non-null  object \n",
      " 3   Quantity     401604 non-null  int64  \n",
      " 4   InvoiceDate  401604 non-null  object \n",
      " 5   UnitPrice    401604 non-null  float64\n",
      " 6   CustomerID   401604 non-null  float64\n",
      " 7   Country      401604 non-null  object \n",
      "dtypes: float64(2), int64(1), object(5)\n",
      "memory usage: 27.6+ MB\n",
      "None\n"
     ]
    }
   ],
   "source": [
    "# Check data types of headers\n",
    "print(df_cleaned.info())"
   ]
  },
  {
   "cell_type": "markdown",
   "metadata": {},
   "source": [
    "the Dtype for InvoiceDate and CustomerID should be datetime and int respectively\n",
    "\n",
    "InvoiceNo and StockCode may or may not have wrong dtypes"
   ]
  },
  {
   "cell_type": "code",
   "execution_count": 3,
   "metadata": {},
   "outputs": [
    {
     "name": "stdout",
     "output_type": "stream",
     "text": [
      "       InvoiceNo StockCode                       Description  Quantity  \\\n",
      "141      C536379         D                          Discount        -1   \n",
      "154      C536383    35004C   SET OF 3 COLOURED  FLYING DUCKS        -1   \n",
      "235      C536391     22556    PLASTERS IN TIN CIRCUS PARADE        -12   \n",
      "236      C536391     21984  PACK OF 12 PINK PAISLEY TISSUES        -24   \n",
      "237      C536391     21983  PACK OF 12 BLUE PAISLEY TISSUES        -24   \n",
      "...          ...       ...                               ...       ...   \n",
      "540449   C581490     23144   ZINC T-LIGHT HOLDER STARS SMALL       -11   \n",
      "541541   C581499         M                            Manual        -1   \n",
      "541715   C581568     21258        VICTORIAN SEWING BOX LARGE        -5   \n",
      "541716   C581569     84978  HANGING HEART JAR T-LIGHT HOLDER        -1   \n",
      "541717   C581569     20979     36 PENCILS TUBE RED RETROSPOT        -5   \n",
      "\n",
      "            InvoiceDate  UnitPrice  CustomerID         Country  \n",
      "141      12/1/2010 9:41      27.50     14527.0  United Kingdom  \n",
      "154      12/1/2010 9:49       4.65     15311.0  United Kingdom  \n",
      "235     12/1/2010 10:24       1.65     17548.0  United Kingdom  \n",
      "236     12/1/2010 10:24       0.29     17548.0  United Kingdom  \n",
      "237     12/1/2010 10:24       0.29     17548.0  United Kingdom  \n",
      "...                 ...        ...         ...             ...  \n",
      "540449   12/9/2011 9:57       0.83     14397.0  United Kingdom  \n",
      "541541  12/9/2011 10:28     224.69     15498.0  United Kingdom  \n",
      "541715  12/9/2011 11:57      10.95     15311.0  United Kingdom  \n",
      "541716  12/9/2011 11:58       1.25     17315.0  United Kingdom  \n",
      "541717  12/9/2011 11:58       1.25     17315.0  United Kingdom  \n",
      "\n",
      "[8872 rows x 8 columns]\n"
     ]
    }
   ],
   "source": [
    "# Check if InvoiceNo have wrong dtypes\n",
    "\n",
    "# Filter out InvoiceNo with letters and display\n",
    "InvoiceNo_mask = df_cleaned['InvoiceNo'].str.contains('[a-zA-Z]')\n",
    "Anomalous_InvoiceNo = df_cleaned[InvoiceNo_mask]\n",
    "print(Anomalous_InvoiceNo)"
   ]
  },
  {
   "cell_type": "markdown",
   "metadata": {},
   "source": [
    "items in InvoiceNo are either 5 digit numbers or the letter 'C' followed by a 6 digit number. InvoiceNo has correct dtypes."
   ]
  },
  {
   "cell_type": "code",
   "execution_count": 4,
   "metadata": {},
   "outputs": [
    {
     "name": "stdout",
     "output_type": "stream",
     "text": [
      "       InvoiceNo StockCode                          Description  Quantity  \\\n",
      "0         536365    85123A   WHITE HANGING HEART T-LIGHT HOLDER         6   \n",
      "2         536365    84406B       CREAM CUPID HEARTS COAT HANGER         8   \n",
      "3         536365    84029G  KNITTED UNION FLAG HOT WATER BOTTLE         6   \n",
      "4         536365    84029E       RED WOOLLY HOTTIE WHITE HEART.         6   \n",
      "45        536370      POST                              POSTAGE         3   \n",
      "...          ...       ...                                  ...       ...   \n",
      "541778    581578    84997C      CHILDRENS CUTLERY POLKADOT BLUE         8   \n",
      "541809    581579    85099C       JUMBO  BAG BAROQUE BLACK WHITE        10   \n",
      "541838    581580    84993A            75 GREEN PETIT FOUR CASES         2   \n",
      "541844    581580    85049A        TRADITIONAL CHRISTMAS RIBBONS         1   \n",
      "541853    581580    85049E            SCANDINAVIAN REDS RIBBONS         2   \n",
      "\n",
      "            InvoiceDate  UnitPrice  CustomerID         Country  \n",
      "0        12/1/2010 8:26       2.55     17850.0  United Kingdom  \n",
      "2        12/1/2010 8:26       2.75     17850.0  United Kingdom  \n",
      "3        12/1/2010 8:26       3.39     17850.0  United Kingdom  \n",
      "4        12/1/2010 8:26       3.39     17850.0  United Kingdom  \n",
      "45       12/1/2010 8:45      18.00     12583.0          France  \n",
      "...                 ...        ...         ...             ...  \n",
      "541778  12/9/2011 12:16       4.15     12713.0         Germany  \n",
      "541809  12/9/2011 12:19       1.79     17581.0  United Kingdom  \n",
      "541838  12/9/2011 12:20       0.42     12748.0  United Kingdom  \n",
      "541844  12/9/2011 12:20       1.25     12748.0  United Kingdom  \n",
      "541853  12/9/2011 12:20       1.25     12748.0  United Kingdom  \n",
      "\n",
      "[35425 rows x 8 columns]\n"
     ]
    }
   ],
   "source": [
    "# Check if StockCode have wrong dtypes\n",
    "\n",
    "# Filter out StockCode with letters and display\n",
    "StockCode_mask = df_cleaned['StockCode'].str.contains('[a-zA-Z]')\n",
    "Anomalous_StockCode = df_cleaned[StockCode_mask]\n",
    "print(Anomalous_StockCode)"
   ]
  },
  {
   "cell_type": "markdown",
   "metadata": {},
   "source": [
    "items in StockCode are 5 digit numbers that may or may not be followed by 1 or more letters. Some stock codes don't match these criteria and should be removed. StockCode has correct dtypes."
   ]
  },
  {
   "cell_type": "code",
   "execution_count": 5,
   "metadata": {},
   "outputs": [
    {
     "name": "stdout",
     "output_type": "stream",
     "text": [
      "       InvoiceNo StockCode Description  Quantity      InvoiceDate  UnitPrice  \\\n",
      "45        536370      POST     POSTAGE         3   12/1/2010 8:45      18.00   \n",
      "141      C536379         D    Discount        -1   12/1/2010 9:41      27.50   \n",
      "386       536403      POST     POSTAGE         1  12/1/2010 11:27      15.00   \n",
      "1123      536527      POST     POSTAGE         1  12/1/2010 13:04      18.00   \n",
      "1423      536540        C2    CARRIAGE         1  12/1/2010 14:05      50.00   \n",
      "...          ...       ...         ...       ...              ...        ...   \n",
      "541216    581494      POST     POSTAGE         2  12/9/2011 10:13      18.00   \n",
      "541541   C581499         M      Manual        -1  12/9/2011 10:28     224.69   \n",
      "541730    581570      POST     POSTAGE         1  12/9/2011 11:59      18.00   \n",
      "541767    581574      POST     POSTAGE         2  12/9/2011 12:09      18.00   \n",
      "541768    581578      POST     POSTAGE         3  12/9/2011 12:16      18.00   \n",
      "\n",
      "        CustomerID         Country  \n",
      "45         12583.0          France  \n",
      "141        14527.0  United Kingdom  \n",
      "386        12791.0     Netherlands  \n",
      "1123       12662.0         Germany  \n",
      "1423       14911.0            EIRE  \n",
      "...            ...             ...  \n",
      "541216     12518.0         Germany  \n",
      "541541     15498.0  United Kingdom  \n",
      "541730     12662.0         Germany  \n",
      "541767     12526.0         Germany  \n",
      "541768     12713.0         Germany  \n",
      "\n",
      "[1915 rows x 8 columns]\n"
     ]
    }
   ],
   "source": [
    "# Create filter that matches above criteria and display\n",
    "df_StockCode_match = df_cleaned[~df_cleaned['StockCode'].str.match('^\\d{5}[a-zA-Z]*$')]\n",
    "print(df_StockCode_match)\n",
    "\n",
    "# Drop rows matching the criteria\n",
    "df_cleaned = df_cleaned.drop(df_StockCode_match.index)"
   ]
  },
  {
   "cell_type": "code",
   "execution_count": 6,
   "metadata": {},
   "outputs": [],
   "source": [
    "# Convert datetime dtype\n",
    "df_cleaned['InvoiceDate'] = pd.to_datetime(df_cleaned['InvoiceDate'], format='%m/%d/%Y %H:%M')\n",
    "# Convert CustomerID dtype\n",
    "df_cleaned['CustomerID'] = df_cleaned['CustomerID'].astype(int)"
   ]
  },
  {
   "cell_type": "code",
   "execution_count": 7,
   "metadata": {},
   "outputs": [
    {
     "name": "stdout",
     "output_type": "stream",
     "text": [
      "<class 'pandas.core.frame.DataFrame'>\n",
      "Index: 399689 entries, 0 to 541908\n",
      "Data columns (total 8 columns):\n",
      " #   Column       Non-Null Count   Dtype         \n",
      "---  ------       --------------   -----         \n",
      " 0   InvoiceNo    399689 non-null  object        \n",
      " 1   StockCode    399689 non-null  object        \n",
      " 2   Description  399689 non-null  object        \n",
      " 3   Quantity     399689 non-null  int64         \n",
      " 4   InvoiceDate  399689 non-null  datetime64[ns]\n",
      " 5   UnitPrice    399689 non-null  float64       \n",
      " 6   CustomerID   399689 non-null  int64         \n",
      " 7   Country      399689 non-null  object        \n",
      "dtypes: datetime64[ns](1), float64(1), int64(2), object(4)\n",
      "memory usage: 27.4+ MB\n",
      "None\n"
     ]
    }
   ],
   "source": [
    "# Double check dtypes\n",
    "print(df_cleaned.info())"
   ]
  },
  {
   "cell_type": "code",
   "execution_count": 8,
   "metadata": {},
   "outputs": [],
   "source": [
    "#Save the cleaned dataframe back to CSV\n",
    "df_cleaned.to_csv('clean_data.csv', index=False)"
   ]
  }
 ],
 "metadata": {
  "kernelspec": {
   "display_name": ".venv",
   "language": "python",
   "name": "python3"
  },
  "language_info": {
   "codemirror_mode": {
    "name": "ipython",
    "version": 3
   },
   "file_extension": ".py",
   "mimetype": "text/x-python",
   "name": "python",
   "nbconvert_exporter": "python",
   "pygments_lexer": "ipython3",
   "version": "3.11.0"
  }
 },
 "nbformat": 4,
 "nbformat_minor": 2
}
